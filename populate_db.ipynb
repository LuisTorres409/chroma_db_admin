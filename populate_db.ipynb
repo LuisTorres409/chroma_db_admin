{
 "cells": [
  {
   "cell_type": "code",
   "execution_count": 20,
   "metadata": {},
   "outputs": [
    {
     "data": {
      "text/plain": [
       "True"
      ]
     },
     "execution_count": 20,
     "metadata": {},
     "output_type": "execute_result"
    }
   ],
   "source": [
    "from llama_index.core import VectorStoreIndex, SimpleDirectoryReader\n",
    "from llama_index.vector_stores.chroma import ChromaVectorStore\n",
    "from llama_index.core import StorageContext , Document , Settings\n",
    "from llama_index.embeddings.huggingface import HuggingFaceEmbedding\n",
    "from llama_index.embeddings.langchain import LangchainEmbedding\n",
    "from langchain.embeddings.huggingface import HuggingFaceEmbeddings\n",
    "from llama_index.core.node_parser import (\n",
    "    SentenceSplitter,\n",
    "    SemanticSplitterNodeParser,\n",
    ")\n",
    "from PyPDF2 import PdfReader\n",
    "from IPython.display import Markdown, display\n",
    "import chromadb\n",
    "import os\n",
    "from dotenv import load_dotenv\n",
    "import uuid\n",
    "import json\n",
    "load_dotenv()"
   ]
  },
  {
   "cell_type": "markdown",
   "metadata": {},
   "source": [
    "## Define função que copia os documentos para o diretório do ChromaDB"
   ]
  },
  {
   "cell_type": "code",
   "execution_count": null,
   "metadata": {},
   "outputs": [],
   "source": [
    "import shutil\n",
    "import os\n",
    "\n",
    "\n",
    "def move_docs_to_chroma_folder(diretorio_origem,collection_name):\n",
    "\n",
    "    # Diretório de destino\n",
    "    diretorio_destino = f'chroma_db/{collection_name}_files'\n",
    "\n",
    "    # Verifica se o diretório de destino existe, se não, cria\n",
    "    if not os.path.exists(diretorio_destino):\n",
    "        os.makedirs(diretorio_destino)\n",
    "\n",
    "    # Lista todos os arquivos no diretório de origem\n",
    "    arquivos = os.listdir(diretorio_origem)\n",
    "\n",
    "    # Copia cada arquivo para o diretório de destino\n",
    "    for arquivo in arquivos:\n",
    "        caminho_origem = os.path.join(diretorio_origem, arquivo)\n",
    "        caminho_destino = os.path.join(diretorio_destino, arquivo)\n",
    "        shutil.copy2(caminho_origem, caminho_destino)"
   ]
  },
  {
   "cell_type": "markdown",
   "metadata": {},
   "source": [
    "## Carregando os documentos do diretório"
   ]
  },
  {
   "cell_type": "code",
   "execution_count": 3,
   "metadata": {},
   "outputs": [],
   "source": [
    "collection_name = \"livros\"\n",
    "embed_model_name = 'all-MiniLM-L6-v2'\n",
    "folder_name = 'livros'\n",
    "\n",
    "\n",
    "embed_model=LangchainEmbedding(HuggingFaceEmbeddings(model_name=embed_model_name))\n",
    "\n",
    "db = chromadb.PersistentClient(path=\"./chroma_db\")\n",
    "chroma_collection = db.get_or_create_collection(collection_name)\n",
    "vector_store = ChromaVectorStore(chroma_collection=chroma_collection)\n",
    "storage_context = StorageContext.from_defaults(vector_store=vector_store)\n",
    "\n",
    "\n",
    "documents = SimpleDirectoryReader(folder_name).load_data()\n",
    "\n",
    "index = VectorStoreIndex.from_documents(\n",
    "    documents, storage_context=storage_context, embed_model=embed_model , show_progress=True\n",
    ")\n",
    "\n",
    "move_docs_to_chroma_folder(folder_name,collection_name)"
   ]
  },
  {
   "cell_type": "markdown",
   "metadata": {},
   "source": [
    "## Utilizando Semantic Chunking"
   ]
  },
  {
   "cell_type": "code",
   "execution_count": 11,
   "metadata": {},
   "outputs": [],
   "source": [
    "collection_name = \"docs-semantic-chunking\"\n",
    "embed_model_name = 'all-MiniLM-L6-v2'\n",
    "folder_name = 'docs'\n",
    "\n",
    "\n",
    "embed_model=LangchainEmbedding(HuggingFaceEmbeddings(model_name=embed_model_name))\n",
    "\n",
    "db = chromadb.PersistentClient(path=\"./chroma_db\")\n",
    "chroma_collection = db.get_or_create_collection(collection_name)\n",
    "vector_store = ChromaVectorStore(chroma_collection=chroma_collection)\n",
    "storage_context = StorageContext.from_defaults(vector_store=vector_store)\n",
    "\n",
    "\n",
    "documents = SimpleDirectoryReader(folder_name).load_data()\n",
    "\n",
    "\n",
    "\n",
    "base_splitter = SentenceSplitter(chunk_size=512)\n",
    "\n",
    "splitter = SemanticSplitterNodeParser(\n",
    "    buffer_size=1, breakpoint_percentile_threshold=95, embed_model=embed_model\n",
    ")\n",
    "\n",
    "nodes = splitter.get_nodes_from_documents(documents)\n",
    "\n",
    "index = VectorStoreIndex(\n",
    "    nodes=nodes, storage_context=storage_context, embed_model=embed_model,show_progress=True\n",
    ")\n",
    "\n",
    "move_docs_to_chroma_folder(folder_name,collection_name)"
   ]
  }
 ],
 "metadata": {
  "kernelspec": {
   "display_name": "Python 3",
   "language": "python",
   "name": "python3"
  },
  "language_info": {
   "codemirror_mode": {
    "name": "ipython",
    "version": 3
   },
   "file_extension": ".py",
   "mimetype": "text/x-python",
   "name": "python",
   "nbconvert_exporter": "python",
   "pygments_lexer": "ipython3",
   "version": "3.11.8"
  }
 },
 "nbformat": 4,
 "nbformat_minor": 2
}
